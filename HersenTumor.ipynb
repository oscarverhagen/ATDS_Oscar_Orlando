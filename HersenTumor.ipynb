{
 "cells": [
  {
   "cell_type": "code",
   "execution_count": 8,
   "id": "b9bd88c2-ec93-445c-84d4-b21bf50c5a05",
   "metadata": {},
   "outputs": [
    {
     "data": {
      "text/plain": [
       "<Figure size 1500x500 with 0 Axes>"
      ]
     },
     "metadata": {},
     "output_type": "display_data"
    }
   ],
   "source": [
    "import os\n",
    "from PIL import Image\n",
    "import numpy as np\n",
    "import matplotlib.pyplot as plt\n",
    "\n",
    "# Directory where your images are located\n",
    "image_dir = \"normal/\"  # Replace with the path to your image directory\n",
    "\n",
    "# Initialize lists to hold images and filenames\n",
    "image_data = []\n",
    "image_names = []\n",
    "\n",
    "# Load and display the first few images\n",
    "for i, file_name in enumerate(os.listdir(image_dir)):\n",
    "    if file_name.endswith('.png') and i < 5:  # Load the first 5 PNG images\n",
    "        image_path = os.path.join(image_dir, file_name)\n",
    "        \n",
    "        # Open the image\n",
    "        image = Image.open(image_path)\n",
    "        image_data.append(np.array(image))  # Convert to NumPy array if you need to process as an array\n",
    "        image_names.append(file_name)\n",
    "\n",
    "# Display the images\n",
    "plt.figure(figsize=(15, 5))\n",
    "for i, img_array in enumerate(image_data):\n",
    "    plt.subplot(1, len(image_data), i + 1)\n",
    "    plt.imshow(img_array)\n",
    "    plt.title(image_names[i])\n",
    "    plt.axis('off')\n",
    "\n",
    "plt.show()\n"
   ]
  },
  {
   "cell_type": "code",
   "execution_count": null,
   "id": "4ae085db-a5b5-40a7-846c-ebb54a3a0041",
   "metadata": {},
   "outputs": [],
   "source": []
  }
 ],
 "metadata": {
  "kernelspec": {
   "display_name": "Python 3 (ipykernel)",
   "language": "python",
   "name": "python3"
  },
  "language_info": {
   "codemirror_mode": {
    "name": "ipython",
    "version": 3
   },
   "file_extension": ".py",
   "mimetype": "text/x-python",
   "name": "python",
   "nbconvert_exporter": "python",
   "pygments_lexer": "ipython3",
   "version": "3.12.4"
  }
 },
 "nbformat": 4,
 "nbformat_minor": 5
}
